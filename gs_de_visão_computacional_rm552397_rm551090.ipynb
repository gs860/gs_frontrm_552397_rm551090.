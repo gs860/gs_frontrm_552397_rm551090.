{
  "nbformat": 4,
  "nbformat_minor": 0,
  "metadata": {
    "colab": {
      "provenance": [],
      "toc_visible": true
    },
    "kernelspec": {
      "name": "python3",
      "display_name": "Python 3"
    },
    "language_info": {
      "name": "python"
    }
  },
  "cells": [
    {
      "cell_type": "markdown",
      "source": [
        "#nome:Gabriel Silva rm:552397 turma:2 tiar\n",
        "#nome: Lucas Caspirro Gitti Alcaraz rm:551090 turma :2tiar"
      ],
      "metadata": {
        "id": "YUDve74i4ZOr"
      }
    },
    {
      "cell_type": "markdown",
      "source": [
        "#imports"
      ],
      "metadata": {
        "id": "1CWzF9mj4Gyu"
      }
    },
    {
      "cell_type": "code",
      "source": [
        "from tensorflow.keras.models import Sequential, load_model\n",
        "from tensorflow.keras.layers import Conv2D, MaxPooling2D, Flatten, Dense, Dropout, BatchNormalization, GlobalAveragePooling2D\n",
        "from tensorflow.keras.callbacks import ModelCheckpoint, EarlyStopping\n",
        "from tensorflow.keras.optimizers import Adam\n",
        "from tensorflow.keras.regularizers import l2\n",
        "import zipfile\n",
        "import os\n",
        "import pandas as pd\n",
        "from pathlib import Path\n",
        "from tensorflow.keras.preprocessing.image import ImageDataGenerator\n",
        "from tensorflow.keras.callbacks import ModelCheckpoint, EarlyStopping\n"
      ],
      "metadata": {
        "id": "RIdJ9g5-3YDF"
      },
      "execution_count": null,
      "outputs": []
    },
    {
      "cell_type": "markdown",
      "source": [
        "#preparando o arquivo zip"
      ],
      "metadata": {
        "id": "B-D4z3u22XKB"
      }
    },
    {
      "cell_type": "code",
      "execution_count": null,
      "metadata": {
        "id": "a7KHBYXPjGLD"
      },
      "outputs": [],
      "source": [
        "# Caminho do arquivo ZIP\n",
        "zip_path = '/content/archive (1).zip'\n",
        "extract_path = '/content/archive'\n",
        "\n",
        "# Extrair o conteúdo do arquivo ZIP\n",
        "with zipfile.ZipFile(zip_path, 'r') as zip_ref:\n",
        "    zip_ref.extractall(extract_path)"
      ]
    },
    {
      "cell_type": "markdown",
      "source": [
        "#preparando as imagens"
      ],
      "metadata": {
        "id": "obC7jQ-B2hOi"
      }
    },
    {
      "cell_type": "code",
      "source": [
        "# Caminho para as pastas extraídas\n",
        "healthy_path = Path(extract_path) / 'health_corals'\n",
        "diseased_path = Path(extract_path) / 'bleached_corals'\n",
        "\n",
        "# Criar listas de caminhos e labels\n",
        "data = []\n",
        "for img_path in healthy_path.glob('*.jpg'):\n",
        "    data.append((str(img_path), 'saudavel'))\n",
        "for img_path in diseased_path.glob('*.jpg'):\n",
        "    data.append((str(img_path), 'doente'))\n",
        "\n",
        "# Criar DataFrame\n",
        "df = pd.DataFrame(data, columns=['image_path', 'label'])\n",
        "\n",
        "# Verificar se o DataFrame foi criado corretamente\n",
        "print(df['label'].value_counts())\n"
      ],
      "metadata": {
        "colab": {
          "base_uri": "https://localhost:8080/"
        },
        "id": "ayPK9ta_jIvB",
        "outputId": "ee138847-4121-46d2-8f21-c2d13c57bfc5"
      },
      "execution_count": null,
      "outputs": [
        {
          "output_type": "stream",
          "name": "stdout",
          "text": [
            "label\n",
            "doente    483\n",
            "Name: count, dtype: int64\n"
          ]
        }
      ]
    },
    {
      "cell_type": "markdown",
      "source": [
        "#separação de treino e teste"
      ],
      "metadata": {
        "id": "Zo8ImwX02sO4"
      }
    },
    {
      "cell_type": "code",
      "source": [
        "# Definir gerador de dados\n",
        "datagen = ImageDataGenerator(rescale=1./255, validation_split=0.2)\n",
        "\n",
        "# Caminho para o diretório principal\n",
        "main_dir = extract_path\n",
        "\n",
        "# Criar geradores de dados para treinamento e validação\n",
        "train_generator = datagen.flow_from_directory(\n",
        "    main_dir,\n",
        "    target_size=(150, 150),  # tamanho das imagens\n",
        "    batch_size=32,\n",
        "    class_mode='binary',\n",
        "    subset='training',\n",
        "    shuffle=True\n",
        ")\n",
        "\n",
        "validation_generator = datagen.flow_from_directory(\n",
        "    main_dir,\n",
        "    target_size=(150, 150),  # tamanho das imagens\n",
        "    batch_size=32,\n",
        "    class_mode='binary',\n",
        "    subset='validation',\n",
        "    shuffle=True\n",
        ")\n"
      ],
      "metadata": {
        "colab": {
          "base_uri": "https://localhost:8080/"
        },
        "id": "FLmIibRHjMAl",
        "outputId": "1135242f-f660-488b-80a8-9a09b801836e"
      },
      "execution_count": null,
      "outputs": [
        {
          "output_type": "stream",
          "name": "stdout",
          "text": [
            "Found 739 images belonging to 2 classes.\n",
            "Found 183 images belonging to 2 classes.\n"
          ]
        }
      ]
    },
    {
      "cell_type": "markdown",
      "source": [
        "#preparação da rede"
      ],
      "metadata": {
        "id": "SMTh_NIM2xY2"
      }
    },
    {
      "cell_type": "code",
      "source": [
        "# Definir o modelo\n",
        "model = Sequential([\n",
        "    Conv2D(32, (3, 3), activation='relu', input_shape=(150, 150, 3)),\n",
        "    BatchNormalization(),\n",
        "    MaxPooling2D((2, 2)),\n",
        "\n",
        "    Conv2D(64, (3, 3), activation='relu'),\n",
        "    BatchNormalization(),\n",
        "    MaxPooling2D((2, 2)),\n",
        "\n",
        "    Conv2D(128, (3, 3), activation='relu'),\n",
        "    BatchNormalization(),\n",
        "    MaxPooling2D((2, 2)),\n",
        "\n",
        "    Conv2D(256, (3, 3), activation='relu'),\n",
        "    BatchNormalization(),\n",
        "    MaxPooling2D((2, 2)),\n",
        "\n",
        "    Conv2D(512, (3, 3), activation='relu'),\n",
        "    BatchNormalization(),\n",
        "    MaxPooling2D((2, 2)),\n",
        "\n",
        "    GlobalAveragePooling2D(),\n",
        "\n",
        "    Dense(1024, activation='relu', kernel_regularizer=l2(0.01)),\n",
        "    BatchNormalization(),\n",
        "    Dropout(0.4),\n",
        "\n",
        "    Dense(512, activation='relu', kernel_regularizer=l2(0.01)),\n",
        "    BatchNormalization(),\n",
        "    Dropout(0.4),\n",
        "\n",
        "    Dense(256, activation='relu', kernel_regularizer=l2(0.01)),\n",
        "    BatchNormalization(),\n",
        "    Dropout(0.4),\n",
        "\n",
        "    Dense(1, activation='sigmoid')\n",
        "])\n",
        "# Compilar o modelo\n",
        "model.compile(optimizer='adam', loss='binary_crossentropy', metrics=['accuracy'])"
      ],
      "metadata": {
        "id": "XbPK2675llzv"
      },
      "execution_count": null,
      "outputs": []
    },
    {
      "cell_type": "markdown",
      "source": [
        "#primeiro treinamento"
      ],
      "metadata": {
        "id": "T--tioUd26b1"
      }
    },
    {
      "cell_type": "code",
      "source": [
        "# Treinar o modelo\n",
        "history = model.fit(train_generator, epochs=10, validation_data=validation_generator)"
      ],
      "metadata": {
        "colab": {
          "base_uri": "https://localhost:8080/"
        },
        "id": "EEHiKkM21Jxg",
        "outputId": "eaa614ee-5bc0-4df9-d080-7dc2caabe5cc"
      },
      "execution_count": null,
      "outputs": [
        {
          "output_type": "stream",
          "name": "stdout",
          "text": [
            "Epoch 1/10\n",
            "24/24 [==============================] - 71s 3s/step - loss: 0.8943 - accuracy: 0.6319 - val_loss: 0.8199 - val_accuracy: 0.5246\n",
            "Epoch 2/10\n",
            "24/24 [==============================] - 60s 3s/step - loss: 0.8761 - accuracy: 0.6414 - val_loss: 2.4893 - val_accuracy: 0.5246\n",
            "Epoch 3/10\n",
            "24/24 [==============================] - 60s 3s/step - loss: 0.8596 - accuracy: 0.6279 - val_loss: 1.8780 - val_accuracy: 0.5246\n",
            "Epoch 4/10\n",
            "24/24 [==============================] - 63s 3s/step - loss: 0.8348 - accuracy: 0.6401 - val_loss: 1.3718 - val_accuracy: 0.5246\n",
            "Epoch 5/10\n",
            "24/24 [==============================] - 60s 3s/step - loss: 0.7491 - accuracy: 0.6631 - val_loss: 0.6506 - val_accuracy: 0.6230\n",
            "Epoch 6/10\n",
            "24/24 [==============================] - 61s 3s/step - loss: 0.7812 - accuracy: 0.6225 - val_loss: 1.1739 - val_accuracy: 0.5246\n",
            "Epoch 7/10\n",
            "24/24 [==============================] - 63s 3s/step - loss: 0.7841 - accuracy: 0.6306 - val_loss: 0.7513 - val_accuracy: 0.5519\n",
            "Epoch 8/10\n",
            "24/24 [==============================] - 62s 3s/step - loss: 0.7456 - accuracy: 0.6509 - val_loss: 1.1347 - val_accuracy: 0.5301\n",
            "Epoch 9/10\n",
            "24/24 [==============================] - 59s 2s/step - loss: 0.7402 - accuracy: 0.6387 - val_loss: 1.0984 - val_accuracy: 0.5355\n",
            "Epoch 10/10\n",
            "24/24 [==============================] - 59s 2s/step - loss: 0.6661 - accuracy: 0.6766 - val_loss: 2.2078 - val_accuracy: 0.5246\n"
          ]
        }
      ]
    },
    {
      "cell_type": "markdown",
      "source": [
        "#segundo treinamento para salvar o melhor modelo feito pela rede"
      ],
      "metadata": {
        "id": "wzICuzlT2_Mm"
      }
    },
    {
      "cell_type": "code",
      "source": [
        "# Callback para salvar o melhor modelo\n",
        "checkpoint = ModelCheckpoint('melhor_modelo.h5', monitor='val_loss', save_best_only=True, mode='min')\n",
        "\n",
        "# Callback para interromper o treinamento quando não houver melhoria\n",
        "early_stopping = EarlyStopping(monitor='val_loss', patience=10, mode='min')\n",
        "\n",
        "# Treinar o modelo com os callbacks\n",
        "history = model.fit(\n",
        "    train_generator,\n",
        "    validation_data=validation_generator,\n",
        "    epochs=50,\n",
        "    callbacks=[checkpoint, early_stopping]\n",
        ")"
      ],
      "metadata": {
        "colab": {
          "base_uri": "https://localhost:8080/"
        },
        "id": "mo-kWt6J_PCF",
        "outputId": "e8f3cd07-23c5-4d59-8b96-a60492af8534"
      },
      "execution_count": null,
      "outputs": [
        {
          "output_type": "stream",
          "name": "stdout",
          "text": [
            "Epoch 1/50\n",
            "24/24 [==============================] - 6s 75ms/step - loss: 0.5908 - accuracy: 0.8904 - val_loss: 1.0259 - val_accuracy: 0.6284\n",
            "Epoch 2/50\n",
            "24/24 [==============================] - 2s 71ms/step - loss: 0.5872 - accuracy: 0.9012 - val_loss: 1.0686 - val_accuracy: 0.7104\n",
            "Epoch 3/50\n",
            "24/24 [==============================] - 2s 66ms/step - loss: 0.5786 - accuracy: 0.8999 - val_loss: 1.1937 - val_accuracy: 0.6667\n",
            "Epoch 4/50\n",
            "24/24 [==============================] - 2s 66ms/step - loss: 0.4954 - accuracy: 0.9188 - val_loss: 1.1580 - val_accuracy: 0.5574\n",
            "Epoch 5/50\n",
            "24/24 [==============================] - 2s 63ms/step - loss: 0.5108 - accuracy: 0.9093 - val_loss: 1.1451 - val_accuracy: 0.6120\n",
            "Epoch 6/50\n",
            "24/24 [==============================] - 2s 66ms/step - loss: 0.6864 - accuracy: 0.8904 - val_loss: 2.3616 - val_accuracy: 0.4918\n",
            "Epoch 7/50\n",
            "24/24 [==============================] - 2s 99ms/step - loss: 0.6625 - accuracy: 0.9053 - val_loss: 1.2602 - val_accuracy: 0.7104\n",
            "Epoch 8/50\n",
            "24/24 [==============================] - 2s 70ms/step - loss: 0.5214 - accuracy: 0.9418 - val_loss: 1.3471 - val_accuracy: 0.6612\n",
            "Epoch 9/50\n",
            "24/24 [==============================] - 2s 65ms/step - loss: 0.4536 - accuracy: 0.9472 - val_loss: 1.2832 - val_accuracy: 0.6284\n",
            "Epoch 10/50\n",
            "24/24 [==============================] - 2s 71ms/step - loss: 0.4056 - accuracy: 0.9486 - val_loss: 0.9836 - val_accuracy: 0.7650\n",
            "Epoch 11/50\n",
            "24/24 [==============================] - 2s 68ms/step - loss: 0.3388 - accuracy: 0.9635 - val_loss: 1.4232 - val_accuracy: 0.5574\n",
            "Epoch 12/50\n",
            "24/24 [==============================] - 2s 65ms/step - loss: 0.3801 - accuracy: 0.9391 - val_loss: 1.4596 - val_accuracy: 0.5738\n",
            "Epoch 13/50\n",
            "24/24 [==============================] - 2s 90ms/step - loss: 0.4983 - accuracy: 0.9134 - val_loss: 1.2761 - val_accuracy: 0.6995\n",
            "Epoch 14/50\n",
            "24/24 [==============================] - 2s 83ms/step - loss: 0.5068 - accuracy: 0.9269 - val_loss: 1.4107 - val_accuracy: 0.7049\n",
            "Epoch 15/50\n",
            "24/24 [==============================] - 2s 63ms/step - loss: 0.4765 - accuracy: 0.9364 - val_loss: 1.1393 - val_accuracy: 0.6448\n",
            "Epoch 16/50\n",
            "24/24 [==============================] - 2s 63ms/step - loss: 0.4940 - accuracy: 0.9337 - val_loss: 2.2027 - val_accuracy: 0.4645\n",
            "Epoch 17/50\n",
            "24/24 [==============================] - 2s 64ms/step - loss: 0.7753 - accuracy: 0.8539 - val_loss: 1.3844 - val_accuracy: 0.6120\n",
            "Epoch 18/50\n",
            "24/24 [==============================] - 2s 63ms/step - loss: 1.0944 - accuracy: 0.7943 - val_loss: 1.8522 - val_accuracy: 0.5683\n",
            "Epoch 19/50\n",
            "24/24 [==============================] - 2s 65ms/step - loss: 0.9882 - accuracy: 0.8728 - val_loss: 1.7208 - val_accuracy: 0.6448\n",
            "Epoch 20/50\n",
            "24/24 [==============================] - 2s 99ms/step - loss: 0.8282 - accuracy: 0.8904 - val_loss: 1.4573 - val_accuracy: 0.6230\n"
          ]
        }
      ]
    },
    {
      "cell_type": "markdown",
      "source": [
        "#acuracia"
      ],
      "metadata": {
        "id": "0CP6SUC23LU7"
      }
    },
    {
      "cell_type": "code",
      "source": [
        "# Avaliar o modelo nos dados de validação\n",
        "loss, accuracy = model.evaluate(validation_generator)\n",
        "print(f'Acurácia no conjunto de validação: {accuracy * 100:.2f}%')\n"
      ],
      "metadata": {
        "colab": {
          "base_uri": "https://localhost:8080/"
        },
        "id": "Bsu-r7Q1ntGZ",
        "outputId": "43382aee-df7f-4ba1-e30e-bdb9fc9de603"
      },
      "execution_count": null,
      "outputs": [
        {
          "output_type": "stream",
          "name": "stdout",
          "text": [
            "6/6 [==============================] - 0s 62ms/step - loss: 0.9836 - accuracy: 0.7650\n",
            "Acurácia no conjunto de validação: 76.50%\n"
          ]
        }
      ]
    },
    {
      "cell_type": "markdown",
      "source": [
        "#salvando o modelo"
      ],
      "metadata": {
        "id": "NbHj2UJt3PMC"
      }
    },
    {
      "cell_type": "code",
      "source": [
        "model = load_model('melhor_modelo.h5')"
      ],
      "metadata": {
        "id": "920iqZ27BLAg"
      },
      "execution_count": null,
      "outputs": []
    }
  ]
}